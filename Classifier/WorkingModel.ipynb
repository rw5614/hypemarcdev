{
 "cells": [
  {
   "cell_type": "markdown",
   "metadata": {},
   "source": [
    "### Caveats (Major!)"
   ]
  },
  {
   "cell_type": "markdown",
   "metadata": {},
   "source": [
    "I consider the code here to be very hacky! There is not much documentation online about preparing Keras models for Mobile Tensorflow apps. I am also not an experienced iOS developer. I mainly wanted to prove to myself that this can work, then refine my approach in the future. I would appreciate feedback on any of these issues:\n",
    "\n",
    "1. When running the app on the device, the inference randomly stops working. The video feed still updates, but no more predictions are made. I can't seem to find a way to reproduce this issue reliably, but it is very common. I noticed a recent open issue that may be related: [Tensorflow freezes on iOS during Session::Run](https://github.com/tensorflow/tensorflow/issues/7108)\n",
    "1. I do not know if I am getting full performance from Tensorflow on iOS. I am doing a standard build of Tensorflow from my MacBook Pro. There are apparently some [undocumented flags that can turn on optimization](http://stackoverflow.com/questions/37971426/tensorflow-running-slow-on-ios), but I don't know if they apply to the current version. In any case, I do seem to achieve 1-1.5 sec per inference on my iPhone 5s.\n",
    "1. The level of accuracy that I achieved in my previous writeup depended on 10-crops at particular positions in an image. I am sticking with whatever came with the example app sample code to handle resizing of a single crop. I don't know how the portrait orientation of the camera affects accuracy when resizing the image to the 299x299 size needed by the InceptionV3 network.\n",
    "1. I don't know if I'm dealing without dropout properly, as a result, the difference between the original model predictions and the modified model predictions are slightly higher than I would have thought. In a production system, I would **definitely** want to run through my test images on the device in order to compare test set accuracy with the original model.\n",
    "1. I wasn't able to get weight quantization to work properly. I may need to manually find the min/max ranges.\n",
    "1. I am getting non-deterministic results when evaluating the optimized models from disk to compare predictions."
   ]
  },
  {
   "cell_type": "markdown",
   "metadata": {},
   "source": [
    "### Helpful Resources"
   ]
  },
  {
   "cell_type": "markdown",
   "metadata": {
    "collapsed": true
   },
   "source": [
    "Before trying to replicate what I have done here, know that there are probably better ways of doing this! \n",
    "\n",
    "Here are some resources that can help you explore other paths, some that achieve much better performance than what I have here.\n",
    "\n",
    "* [Squeezing Deep Learning Into Mobile Phones](https://www.slideshare.net/anirudhkoul/squeezing-deep-learning-into-mobile-phones), excellent slides by Anirudh Koul that summarize various options available for mobile Deep Learning apps. I like how he breaks it down depending on how much time you want to invest (1 day, 1 week, 1 month, 6 months, etc.)\n",
    "* Matthijs Hollemans's [Machinethink Blog](http://machinethink.net/blog/). Great, in-depth blog posts about Deep Learning on iOS. Includes coverage of BNNS, Metal Performance Shaders, etc. \n",
    "* Matt Rajca's articles: [Getting Started with Deep MNIST and TensorFlow on iOS](http://www.mattrajca.com/2016/11/25/getting-started-with-deep-mnist-and-tensorflow-on-ios.html) and [Speeding Up TensorFlow with Metal Performance Shaders](http://www.mattrajca.com/2016/11/26/speeding-up-tensorflow-with-metal-performance-shaders.html)\n",
    "* Apple Developer example, [MetalImageRecognition: Performing Image Recognition with Inception_v3 Network using Metal Performance Shaders Convolutional Neural Network routines](https://developer.apple.com/library/content/samplecode/MetalImageRecognition/Introduction/Intro.html). Code that implements the same InceptionV3 network that I am utilizing here, but probably much, much faster!\n",
    "\n",
    "And though I don't believe it supports iOS at the moment, keep an eye out for [Tensorflow XLA compiler](https://www.tensorflow.org/versions/master/experimental/xla/). In the future, we might be able to do mobile-specific builds, which will allow us to execute our computation graphs on a mobile device without having to have the entire Tensorflow inference library. This could allow for dramatic size reductions and possibly speedups!\n",
    "\n",
    "All in all, Deep Learning on mobile is looking bright! Hopefully it becomes easier and more straightforward to get your trained models running efficiently on a device."
   ]
  },
  {
   "cell_type": "markdown",
   "metadata": {},
   "source": [
    "## Step by Step"
   ]
  },
  {
   "cell_type": "markdown",
   "metadata": {},
   "source": [
    "First of all, download this trained Keras model and move it into the `model_export` folder if you want to follow along:\n",
    "\n",
    "`wget https://s3.amazonaws.com/stratospark/food-101/model4b.10-0.68.hdf5`"
   ]
  },
  {
   "cell_type": "markdown",
   "metadata": {},
   "source": [
    "At a high level, we will need to:\n",
    "\n",
    "* Reload the Keras model from disk into the Tensorflow session.\n",
    "* Extract the computation graph from the session object.\n",
    "* Change all `Switch` nodes to pass the value of the `True` branch as an `Identity` op instead.\n",
    "* Bypass the `Dropout` nodes.\n",
    "* Update the `keras_learning_phase` `Placeholder` node to be a `Const` node always outputting Test mode.\n",
    "* Add the neuron weights to the graph as constants.\n",
    "* Serialize the graph to a .pb file.\n",
    "* Build optimization tools with Bazel\n",
    "* Run optimization graph transformations\n",
    "* Add model to Tensorflow iOS Camera sample project"
   ]
  },
  {
   "cell_type": "markdown",
   "metadata": {},
   "source": [
    "### Load Keras model and extract the `GraphDef`"
   ]
  },
  {
   "cell_type": "code",
   "execution_count": 110,
   "metadata": {
    "collapsed": false
   },
   "outputs": [
    {
     "name": "stdout",
     "output_type": "stream",
     "text": [
      "105917 Nodes\n"
     ]
    }
   ],
   "source": [
    "import tensorflow as tf\n",
    "from keras.models import load_model, Model\n",
    "from keras import backend as K\n",
    "import numpy as np\n",
    "import matplotlib.pyplot as plt\n",
    "import skimage.transform\n",
    "\n",
    "sess = tf.Session()\n",
    "K.set_session(sess)\n",
    "model = load_model('model4b.10-0.68.hdf5')\n",
    "gd = sess.graph.as_graph_def()\n",
    "print(len(gd.node), 'Nodes')\n",
    "gd.node[:2]\n",
    "x = tf.placeholder(tf.float32, shape=model.get_input_shape_at(0))\n",
    "y = model(x)"
   ]
  },
  {
   "cell_type": "code",
   "execution_count": 135,
   "metadata": {
    "collapsed": false
   },
   "outputs": [
    {
     "name": "stdout",
     "output_type": "stream",
     "text": [
      "loaded:2,resized:1,invalid:0\n"
     ]
    },
    {
     "name": "stderr",
     "output_type": "stream",
     "text": [
      "/Users/raymondw/anaconda/lib/python3.5/site-packages/skimage/transform/_warps.py:84: UserWarning: The default mode, 'constant', will be changed to 'reflect' in skimage 0.15.\n",
      "  warn(\"The default mode, 'constant', will be changed to 'reflect' in \"\n"
     ]
    }
   ],
   "source": [
    "from os import listdir\n",
    "\n",
    "%matplotlib inline\n",
    "all_imgs = []\n",
    "proc_imgs = []\n",
    "toplabels = []\n",
    "resize_count = 0\n",
    "invalid_count = 0\n",
    "loaded_count = 0\n",
    "min_side = 299\n",
    "\n",
    "for image in listdir(\"toClassify\"):\n",
    "    \n",
    "    #try:\n",
    "    #load image\n",
    "    img_arr = plt.imread(\"toClassify/\" + image)\n",
    "    img_arr_rs = img_arr\n",
    "\n",
    "    w, h, _ = img_arr.shape\n",
    "    if w != min_side :\n",
    "        wpercent = (min_side/float(w))\n",
    "        hsize = int((float(h)*float(wpercent)))\n",
    "        #print('new dims:', min_side, hsize)\n",
    "        img_arr_rs = skimage.transform.resize(img_arr, (min_side, hsize))\n",
    "        resize_count += 1\n",
    "    elif h != min_side:\n",
    "        hpercent = (min_side/float(h))\n",
    "        wsize = int((float(w)*float(hpercent)))\n",
    "        #print('new dims:', wsize, min_side)\n",
    "        img_arr_rs = imresize(img_arr, (wsize, min_side))\n",
    "        resize_count += 1\n",
    "    all_imgs.append(img_arr_rs[:,:,:3])\n",
    "    loaded_count += 1\n",
    "    #except:\n",
    "        #invalid_count+=1\n",
    "        \n",
    "print(\"loaded:\" + repr(loaded_count) + \",resized:\" + repr(resize_count) + \",invalid:\" + repr(invalid_count))"
   ]
  },
  {
   "cell_type": "code",
   "execution_count": 112,
   "metadata": {
    "collapsed": false
   },
   "outputs": [
    {
     "data": {
      "text/plain": [
       "2"
      ]
     },
     "execution_count": 112,
     "metadata": {},
     "output_type": "execute_result"
    }
   ],
   "source": [
    "len(all_imgs)"
   ]
  },
  {
   "cell_type": "code",
   "execution_count": 113,
   "metadata": {
    "collapsed": false
   },
   "outputs": [
    {
     "name": "stdout",
     "output_type": "stream",
     "text": [
      "(299, 299, 3)\n",
      "(299, 299, 3)\n"
     ]
    }
   ],
   "source": [
    "for img in all_imgs:\n",
    "    print(img.shape)"
   ]
  },
  {
   "cell_type": "code",
   "execution_count": 115,
   "metadata": {
    "collapsed": false
   },
   "outputs": [],
   "source": [
    "def preprocess_input(x):\n",
    "    #x_copy = np.copy(x, dtype=np.float64)\n",
    "    x_copy = np.array(x, dtype=np.float64)\n",
    "    x_copy -= 0.5\n",
    "    x_copy *= 2.0\n",
    "    return x_copy"
   ]
  },
  {
   "cell_type": "code",
   "execution_count": 116,
   "metadata": {
    "collapsed": false
   },
   "outputs": [
    {
     "data": {
      "image/png": "[encoded data removed]",
      "text/plain": [
       "<matplotlib.figure.Figure at 0x1c2ceb0eb8>"
      ]
     },
     "metadata": {},
     "output_type": "display_data"
    }
   ],
   "source": [
    "for i in range(0,len(all_imgs)):\n",
    "    proc_imgs.append(preprocess_input(all_imgs[i]))\n",
    "    #print(\"BLEH\")\n",
    "    plt.imshow(proc_imgs[i])"
   ]
  },
  {
   "cell_type": "code",
   "execution_count": 107,
   "metadata": {
    "collapsed": false
   },
   "outputs": [],
   "source": [
    "#imgs = np.expand_dims(proc_imgs, 0)"
   ]
  },
  {
   "cell_type": "code",
   "execution_count": 138,
   "metadata": {
    "collapsed": false
   },
   "outputs": [
    {
     "data": {
      "text/plain": [
       "(1, 2, 299, 299, 3)"
      ]
     },
     "execution_count": 138,
     "metadata": {},
     "output_type": "execute_result"
    }
   ],
   "source": [
    "imgs.shape"
   ]
  },
  {
   "cell_type": "code",
   "execution_count": null,
   "metadata": {
    "collapsed": true
   },
   "outputs": [],
   "source": [
    "imgs"
   ]
  },
  {
   "cell_type": "code",
   "execution_count": 136,
   "metadata": {
    "collapsed": false
   },
   "outputs": [],
   "source": [
    "orig_scores = sess.run(y, feed_dict={x: imgs[0], K.learning_phase(): False})"
   ]
  },
  {
   "cell_type": "code",
   "execution_count": 132,
   "metadata": {
    "collapsed": false
   },
   "outputs": [],
   "source": [
    "def find_top_pred(scores):\n",
    "    for i in range(0,scores.shape[0]):\n",
    "        top_label_ix = np.argmax(scores[i]) # label 95 is Sushi\n",
    "        confidence = scores[i][top_label_ix]\n",
    "        print('Label: {}, Confidence: {}'.format(top_label_ix, confidence))"
   ]
  },
  {
   "cell_type": "code",
   "execution_count": 133,
   "metadata": {
    "collapsed": false
   },
   "outputs": [
    {
     "name": "stdout",
     "output_type": "stream",
     "text": [
      "Label: 76, Confidence: 0.9967712759971619\n",
      "Label: 95, Confidence: 0.9982082843780518\n"
     ]
    }
   ],
   "source": [
    "find_top_pred(orig_scores)"
   ]
  },
  {
   "cell_type": "markdown",
   "metadata": {},
   "source": [
    "### Replace `Switch` Nodes with `Identity`"
   ]
  },
  {
   "cell_type": "markdown",
   "metadata": {},
   "source": [
    "There are many `Switch` nodes which are introduced by Keras to handle different paths through the computation graph depending on whether one is Training or Testing.\n",
    "\n",
    "We are only going to use inference within the mobile app, and besides, the `Switch` op is not implemented by default in the default Tensorflow mobile builds.\n",
    "\n",
    "Therefore, we want to find all the `Switch` nodes and turn them into `Identity` nodes that "
   ]
  },
  {
   "cell_type": "code",
   "execution_count": 24,
   "metadata": {
    "collapsed": false
   },
   "outputs": [
    {
     "data": {
      "text/plain": [
       "name: \"cond/Switch\"\n",
       "op: \"Switch\"\n",
       "input: \"keras_learning_phase\"\n",
       "input: \"keras_learning_phase\"\n",
       "attr {\n",
       "  key: \"T\"\n",
       "  value {\n",
       "    type: DT_BOOL\n",
       "  }\n",
       "}"
      ]
     },
     "execution_count": 24,
     "metadata": {},
     "output_type": "execute_result"
    }
   ],
   "source": [
    "nodes_with_switch_op = [x for x in gd.node if x.op.lower().find('switch') != -1]\n",
    "nodes_with_switch_op[0]"
   ]
  },
  {
   "cell_type": "markdown",
   "metadata": {},
   "source": [
    "Let's create a dict so we can lookup the nodes by name:"
   ]
  },
  {
   "cell_type": "code",
   "execution_count": 25,
   "metadata": {
    "collapsed": false
   },
   "outputs": [],
   "source": [
    "nodes = {}\n",
    "for node in gd.node:\n",
    "    nodes[node.name] = node"
   ]
  },
  {
   "cell_type": "code",
   "execution_count": 26,
   "metadata": {
    "collapsed": false
   },
   "outputs": [
    {
     "name": "stdout",
     "output_type": "stream",
     "text": [
      "570\n"
     ]
    },
    {
     "data": {
      "text/plain": [
       "[('cond/Switch', ['keras_learning_phase', 'keras_learning_phase']),\n",
       " ('cond/Switch_1', ['batchnorm/add_1', 'cond/pred_id']),\n",
       " ('cond/Switch_2', ['batchnorm_1/add_1', 'cond/pred_id']),\n",
       " ('cond_1/Switch', ['keras_learning_phase', 'keras_learning_phase']),\n",
       " ('cond_1/Switch_1', ['batchnorm_2/add_1', 'cond_1/pred_id']),\n",
       " ('cond_1/Switch_2', ['batchnorm_3/add_1', 'cond_1/pred_id']),\n",
       " ('cond_2/Switch', ['keras_learning_phase', 'keras_learning_phase']),\n",
       " ('cond_2/Switch_1', ['batchnorm_4/add_1', 'cond_2/pred_id']),\n",
       " ('cond_2/Switch_2', ['batchnorm_5/add_1', 'cond_2/pred_id']),\n",
       " ('cond_3/Switch', ['keras_learning_phase', 'keras_learning_phase'])]"
      ]
     },
     "execution_count": 26,
     "metadata": {},
     "output_type": "execute_result"
    }
   ],
   "source": [
    "print(len(nodes_with_switch_op))\n",
    "[(n.name, [i for i in n.input]) for n in nodes_with_switch_op[:10]]"
   ]
  },
  {
   "cell_type": "markdown",
   "metadata": {},
   "source": [
    "Let's look up one of the `Switch` nodes, as well as one of it's input nodes."
   ]
  },
  {
   "cell_type": "code",
   "execution_count": 27,
   "metadata": {
    "collapsed": false
   },
   "outputs": [
    {
     "data": {
      "text/plain": [
       "name: \"cond/Switch_1\"\n",
       "op: \"Switch\"\n",
       "input: \"batchnorm/add_1\"\n",
       "input: \"cond/pred_id\"\n",
       "attr {\n",
       "  key: \"T\"\n",
       "  value {\n",
       "    type: DT_FLOAT\n",
       "  }\n",
       "}\n",
       "attr {\n",
       "  key: \"_class\"\n",
       "  value {\n",
       "    list {\n",
       "      s: \"loc:@batchnorm/add_1\"\n",
       "    }\n",
       "  }\n",
       "}"
      ]
     },
     "execution_count": 27,
     "metadata": {},
     "output_type": "execute_result"
    }
   ],
   "source": [
    "nodes['cond/Switch_1']"
   ]
  },
  {
   "cell_type": "code",
   "execution_count": 28,
   "metadata": {
    "collapsed": false
   },
   "outputs": [
    {
     "data": {
      "text/plain": [
       "name: \"cond/pred_id\"\n",
       "op: \"Identity\"\n",
       "input: \"keras_learning_phase\"\n",
       "attr {\n",
       "  key: \"T\"\n",
       "  value {\n",
       "    type: DT_BOOL\n",
       "  }\n",
       "}"
      ]
     },
     "execution_count": 28,
     "metadata": {},
     "output_type": "execute_result"
    }
   ],
   "source": [
    "nodes['cond/pred_id']"
   ]
  },
  {
   "cell_type": "markdown",
   "metadata": {},
   "source": [
    "We also stumble upon this `Merge` node, that seems to take the `Switch` node as an input:"
   ]
  },
  {
   "cell_type": "code",
   "execution_count": 30,
   "metadata": {
    "collapsed": false
   },
   "outputs": [
    {
     "name": "stdout",
     "output_type": "stream",
     "text": [
      "name: \"cond/Merge\"\n",
      "op: \"Merge\"\n",
      "input: \"cond/Switch_2\"\n",
      "input: \"cond/Switch_1:1\"\n",
      "attr {\n",
      "  key: \"N\"\n",
      "  value {\n",
      "    i: 2\n",
      "  }\n",
      "}\n",
      "attr {\n",
      "  key: \"T\"\n",
      "  value {\n",
      "    type: DT_FLOAT\n",
      "  }\n",
      "}\n",
      "\n"
     ]
    }
   ],
   "source": [
    "for n in gd.node:\n",
    "    if 'cond/Switch_2' in [i for i in n.input]:\n",
    "        print(n)"
   ]
  },
  {
   "cell_type": "markdown",
   "metadata": {},
   "source": [
    "Looking through the different nodes, we can see that some nodes take a `Switch` node as an input. In some cases, there is a `:1` appended to the actual name of the node. I believe this stands for the output of a `Switch` node when it is true. **If anyone reading this knows for sure what that means, let me know.** Since there are no nodes with that name, through trial and error, I was able to get the model to run by routing those to the actual `Switch` node name.\n",
    "\n",
    "Below, we change the inputs of all nodes that take in a `Switch:1` input to remove the last 2 characters:"
   ]
  },
  {
   "cell_type": "code",
   "execution_count": 31,
   "metadata": {
    "collapsed": false
   },
   "outputs": [
    {
     "data": {
      "text/plain": [
       "name: \"cond/Merge\"\n",
       "op: \"Merge\"\n",
       "input: \"cond/Switch_2\"\n",
       "input: \"cond/Switch_1:1\"\n",
       "attr {\n",
       "  key: \"N\"\n",
       "  value {\n",
       "    i: 2\n",
       "  }\n",
       "}\n",
       "attr {\n",
       "  key: \"T\"\n",
       "  value {\n",
       "    type: DT_FLOAT\n",
       "  }\n",
       "}"
      ]
     },
     "execution_count": 31,
     "metadata": {},
     "output_type": "execute_result"
    }
   ],
   "source": [
    "nodes['cond/Merge']"
   ]
  },
  {
   "cell_type": "code",
   "execution_count": 32,
   "metadata": {
    "collapsed": false
   },
   "outputs": [],
   "source": [
    "# nodes to reroute switch input\n",
    "for n in [x for x in gd.node]:\n",
    "    ints = [i for i in n.input]\n",
    "    endswith1 = [ii for ii in ints if ii.endswith(':1')] #and 'Switch' in ii]\n",
    "    if len(endswith1) > 0:\n",
    "        for index, inn in enumerate(n.input):\n",
    "            if inn in endswith1:\n",
    "                new_input = inn[:-2]\n",
    "                n.input.remove(inn)\n",
    "                n.input.insert(index, new_input)"
   ]
  },
  {
   "cell_type": "markdown",
   "metadata": {},
   "source": [
    "Finally, let's change those `Switch` nodes to `Identity` nodes, and also remove the input value that will not be used."
   ]
  },
  {
   "cell_type": "code",
   "execution_count": 33,
   "metadata": {
    "collapsed": false
   },
   "outputs": [],
   "source": [
    "for n in nodes_with_switch_op:\n",
    "    n.op = 'Identity'\n",
    "    n.input.pop()"
   ]
  },
  {
   "cell_type": "markdown",
   "metadata": {},
   "source": [
    "### Bypass `Dropout` Nodes"
   ]
  },
  {
   "cell_type": "markdown",
   "metadata": {},
   "source": [
    "From various reports online, we need to remove `Dropout` nodes when running inference on mobile devices. I found these two places offering code guidance:\n",
    "\n",
    "* https://dato.ml/drop-dropout-from-frozen-model/\n",
    "* http://stackoverflow.com/questions/40358892/wipe-out-dropout-operations-from-tensorflow-graph\n",
    "\n",
    "In addition, there is a ticket opened for Tensorflow to automatically do this when running an optimize script: https://github.com/tensorflow/tensorflow/issues/5867"
   ]
  },
  {
   "cell_type": "code",
   "execution_count": 34,
   "metadata": {
    "collapsed": false
   },
   "outputs": [
    {
     "data": {
      "text/plain": [
       "[('cond_94/dropout/keep_prob', ['^cond_94/switch_t']),\n",
       " ('cond_94/dropout/Shape', ['cond_94/mul']),\n",
       " ('cond_94/dropout/random_uniform/min', ['^cond_94/switch_t']),\n",
       " ('cond_94/dropout/random_uniform/max', ['^cond_94/switch_t']),\n",
       " ('cond_94/dropout/random_uniform/RandomUniform', ['cond_94/dropout/Shape']),\n",
       " ('cond_94/dropout/random_uniform/sub',\n",
       "  ['cond_94/dropout/random_uniform/max',\n",
       "   'cond_94/dropout/random_uniform/min']),\n",
       " ('cond_94/dropout/random_uniform/mul',\n",
       "  ['cond_94/dropout/random_uniform/RandomUniform',\n",
       "   'cond_94/dropout/random_uniform/sub']),\n",
       " ('cond_94/dropout/random_uniform',\n",
       "  ['cond_94/dropout/random_uniform/mul',\n",
       "   'cond_94/dropout/random_uniform/min']),\n",
       " ('cond_94/dropout/add',\n",
       "  ['cond_94/dropout/keep_prob', 'cond_94/dropout/random_uniform']),\n",
       " ('cond_94/dropout/Floor', ['cond_94/dropout/add']),\n",
       " ('cond_94/dropout/div', ['cond_94/mul', 'cond_94/dropout/keep_prob']),\n",
       " ('cond_94/dropout/mul', ['cond_94/dropout/div', 'cond_94/dropout/Floor']),\n",
       " ('gradients/cond_94/dropout/mul_grad/Shape', ['cond_94/dropout/div']),\n",
       " ('gradients/cond_94/dropout/mul_grad/Shape_1', ['cond_94/dropout/Floor']),\n",
       " ('gradients/cond_94/dropout/mul_grad/BroadcastGradientArgs',\n",
       "  ['gradients/cond_94/dropout/mul_grad/Shape',\n",
       "   'gradients/cond_94/dropout/mul_grad/Shape_1']),\n",
       " ('gradients/cond_94/dropout/mul_grad/mul',\n",
       "  ['gradients/cond_94/Merge_grad/cond_grad', 'cond_94/dropout/Floor']),\n",
       " ('gradients/cond_94/dropout/mul_grad/Sum',\n",
       "  ['gradients/cond_94/dropout/mul_grad/mul',\n",
       "   'gradients/cond_94/dropout/mul_grad/BroadcastGradientArgs']),\n",
       " ('gradients/cond_94/dropout/mul_grad/Reshape',\n",
       "  ['gradients/cond_94/dropout/mul_grad/Sum',\n",
       "   'gradients/cond_94/dropout/mul_grad/Shape']),\n",
       " ('gradients/cond_94/dropout/mul_grad/mul_1',\n",
       "  ['cond_94/dropout/div', 'gradients/cond_94/Merge_grad/cond_grad']),\n",
       " ('gradients/cond_94/dropout/mul_grad/Sum_1',\n",
       "  ['gradients/cond_94/dropout/mul_grad/mul_1',\n",
       "   'gradients/cond_94/dropout/mul_grad/BroadcastGradientArgs']),\n",
       " ('gradients/cond_94/dropout/mul_grad/Reshape_1',\n",
       "  ['gradients/cond_94/dropout/mul_grad/Sum_1',\n",
       "   'gradients/cond_94/dropout/mul_grad/Shape_1']),\n",
       " ('gradients/cond_94/dropout/div_grad/Shape', ['cond_94/mul']),\n",
       " ('gradients/cond_94/dropout/div_grad/Shape_1', []),\n",
       " ('gradients/cond_94/dropout/div_grad/BroadcastGradientArgs',\n",
       "  ['gradients/cond_94/dropout/div_grad/Shape',\n",
       "   'gradients/cond_94/dropout/div_grad/Shape_1']),\n",
       " ('gradients/cond_94/dropout/div_grad/RealDiv',\n",
       "  ['gradients/cond_94/dropout/mul_grad/Reshape', 'cond_94/dropout/keep_prob']),\n",
       " ('gradients/cond_94/dropout/div_grad/Sum',\n",
       "  ['gradients/cond_94/dropout/div_grad/RealDiv',\n",
       "   'gradients/cond_94/dropout/div_grad/BroadcastGradientArgs']),\n",
       " ('gradients/cond_94/dropout/div_grad/Reshape',\n",
       "  ['gradients/cond_94/dropout/div_grad/Sum',\n",
       "   'gradients/cond_94/dropout/div_grad/Shape']),\n",
       " ('gradients/cond_94/dropout/div_grad/Neg', ['cond_94/mul']),\n",
       " ('gradients/cond_94/dropout/div_grad/RealDiv_1',\n",
       "  ['gradients/cond_94/dropout/div_grad/Neg', 'cond_94/dropout/keep_prob']),\n",
       " ('gradients/cond_94/dropout/div_grad/RealDiv_2',\n",
       "  ['gradients/cond_94/dropout/div_grad/RealDiv_1',\n",
       "   'cond_94/dropout/keep_prob']),\n",
       " ('gradients/cond_94/dropout/div_grad/mul',\n",
       "  ['gradients/cond_94/dropout/mul_grad/Reshape',\n",
       "   'gradients/cond_94/dropout/div_grad/RealDiv_2']),\n",
       " ('gradients/cond_94/dropout/div_grad/Sum_1',\n",
       "  ['gradients/cond_94/dropout/div_grad/mul',\n",
       "   'gradients/cond_94/dropout/div_grad/BroadcastGradientArgs']),\n",
       " ('gradients/cond_94/dropout/div_grad/Reshape_1',\n",
       "  ['gradients/cond_94/dropout/div_grad/Sum_1',\n",
       "   'gradients/cond_94/dropout/div_grad/Shape_1'])]"
      ]
     },
     "execution_count": 34,
     "metadata": {},
     "output_type": "execute_result"
    }
   ],
   "source": [
    "[(n.name, [i for i in n.input]) for n in gd.node if n.name.lower().find('dropout') != -1]"
   ]
  },
  {
   "cell_type": "code",
   "execution_count": 36,
   "metadata": {
    "collapsed": false
   },
   "outputs": [
    {
     "name": "stdout",
     "output_type": "stream",
     "text": [
      "name: \"cond_94/Merge\"\n",
      "op: \"Merge\"\n",
      "input: \"cond_94/Switch_1\"\n",
      "input: \"cond_94/dropout/mul\"\n",
      "attr {\n",
      "  key: \"N\"\n",
      "  value {\n",
      "    i: 2\n",
      "  }\n",
      "}\n",
      "attr {\n",
      "  key: \"T\"\n",
      "  value {\n",
      "    type: DT_FLOAT\n",
      "  }\n",
      "}\n",
      "\n"
     ]
    }
   ],
   "source": [
    "for n in gd.node:\n",
    "    if 'cond_94/dropout/mul' in [i for i in n.input]:\n",
    "        print(n)"
   ]
  },
  {
   "cell_type": "code",
   "execution_count": 37,
   "metadata": {
    "collapsed": false
   },
   "outputs": [
    {
     "data": {
      "text/plain": [
       "name: \"cond_94/mul\"\n",
       "op: \"Mul\"\n",
       "input: \"cond_94/mul/Switch\"\n",
       "input: \"cond_94/mul/y\"\n",
       "attr {\n",
       "  key: \"T\"\n",
       "  value {\n",
       "    type: DT_FLOAT\n",
       "  }\n",
       "}"
      ]
     },
     "execution_count": 37,
     "metadata": {},
     "output_type": "execute_result"
    }
   ],
   "source": [
    "nodes['cond_94/mul']"
   ]
  },
  {
   "cell_type": "code",
   "execution_count": 38,
   "metadata": {
    "collapsed": false
   },
   "outputs": [
    {
     "data": {
      "text/plain": [
       "name: \"cond_94/dropout/mul\"\n",
       "op: \"Mul\"\n",
       "input: \"cond_94/dropout/div\"\n",
       "input: \"cond_94/dropout/Floor\"\n",
       "attr {\n",
       "  key: \"T\"\n",
       "  value {\n",
       "    type: DT_FLOAT\n",
       "  }\n",
       "}"
      ]
     },
     "execution_count": 38,
     "metadata": {},
     "output_type": "execute_result"
    }
   ],
   "source": [
    "nodes['cond_94/dropout/mul']"
   ]
  },
  {
   "cell_type": "code",
   "execution_count": 39,
   "metadata": {
    "collapsed": false
   },
   "outputs": [],
   "source": [
    "nodes['cond_94/dropout/mul'].input.pop()\n",
    "nodes['cond_94/dropout/mul'].input.append('cond_94/mul')"
   ]
  },
  {
   "cell_type": "code",
   "execution_count": 40,
   "metadata": {
    "collapsed": false
   },
   "outputs": [
    {
     "data": {
      "text/plain": [
       "name: \"cond_94/dropout/mul\"\n",
       "op: \"Mul\"\n",
       "input: \"cond_94/dropout/div\"\n",
       "input: \"cond_94/mul\"\n",
       "attr {\n",
       "  key: \"T\"\n",
       "  value {\n",
       "    type: DT_FLOAT\n",
       "  }\n",
       "}"
      ]
     },
     "execution_count": 40,
     "metadata": {},
     "output_type": "execute_result"
    }
   ],
   "source": [
    "nodes['cond_94/dropout/mul']"
   ]
  },
  {
   "cell_type": "markdown",
   "metadata": {},
   "source": [
    "### Replace `keras_learning_phase` `Placeholder` with `Const` value"
   ]
  },
  {
   "cell_type": "markdown",
   "metadata": {},
   "source": [
    "We don't need `keras_learning_phase` to be a `Placeholder`, as it should be set to a constant value of `False`, for Test mode. We can set it to a `Const` op, then set it's value to a 1-dimensional tensor containing False. The `shape` attribute is not valid in a `Const` op, so we just delete it:"
   ]
  },
  {
   "cell_type": "code",
   "execution_count": 41,
   "metadata": {
    "collapsed": false
   },
   "outputs": [
    {
     "data": {
      "text/plain": [
       "name: \"keras_learning_phase\"\n",
       "op: \"Placeholder\"\n",
       "attr {\n",
       "  key: \"dtype\"\n",
       "  value {\n",
       "    type: DT_BOOL\n",
       "  }\n",
       "}\n",
       "attr {\n",
       "  key: \"shape\"\n",
       "  value {\n",
       "    shape {\n",
       "    }\n",
       "  }\n",
       "}"
      ]
     },
     "execution_count": 41,
     "metadata": {},
     "output_type": "execute_result"
    }
   ],
   "source": [
    "nodes['keras_learning_phase']"
   ]
  },
  {
   "cell_type": "code",
   "execution_count": 42,
   "metadata": {
    "collapsed": true
   },
   "outputs": [],
   "source": [
    "nodes['keras_learning_phase'].op = 'Const'"
   ]
  },
  {
   "cell_type": "code",
   "execution_count": 43,
   "metadata": {
    "collapsed": false
   },
   "outputs": [],
   "source": [
    "from tensorflow.core.framework import attr_value_pb2\n",
    "from tensorflow.core.framework import graph_pb2\n",
    "from tensorflow.python.framework import dtypes\n",
    "from tensorflow.python.framework import tensor_util\n",
    "\n",
    "nodes['keras_learning_phase'].attr.get_or_create('value').CopyFrom(attr_value_pb2.AttrValue(tensor=tensor_util.make_tensor_proto(\n",
    "            [False], dtypes.bool, [1])))"
   ]
  },
  {
   "cell_type": "code",
   "execution_count": 44,
   "metadata": {
    "collapsed": false
   },
   "outputs": [],
   "source": [
    "del nodes['keras_learning_phase'].attr['shape']"
   ]
  },
  {
   "cell_type": "code",
   "execution_count": 45,
   "metadata": {
    "collapsed": false
   },
   "outputs": [
    {
     "data": {
      "text/plain": [
       "name: \"keras_learning_phase\"\n",
       "op: \"Const\"\n",
       "attr {\n",
       "  key: \"dtype\"\n",
       "  value {\n",
       "    type: DT_BOOL\n",
       "  }\n",
       "}\n",
       "attr {\n",
       "  key: \"value\"\n",
       "  value {\n",
       "    tensor {\n",
       "      dtype: DT_BOOL\n",
       "      tensor_shape {\n",
       "        dim {\n",
       "          size: 1\n",
       "        }\n",
       "      }\n",
       "      bool_val: false\n",
       "    }\n",
       "  }\n",
       "}"
      ]
     },
     "execution_count": 45,
     "metadata": {},
     "output_type": "execute_result"
    }
   ],
   "source": [
    "nodes['keras_learning_phase']"
   ]
  },
  {
   "cell_type": "markdown",
   "metadata": {},
   "source": [
    "### Baking Weight Constants into GraphDef and Writing to Disk"
   ]
  },
  {
   "cell_type": "markdown",
   "metadata": {},
   "source": [
    "We want our output .pb file to be self contained, with both the computation graph and all the trained weights. To do this, we simply need to `convert_variables_to_constants` assuming we want to run the computation all the way up to the `Softmax` output, which will give us the 101 class probabilities."
   ]
  },
  {
   "cell_type": "code",
   "execution_count": 46,
   "metadata": {
    "collapsed": false
   },
   "outputs": [
    {
     "name": "stdout",
     "output_type": "stream",
     "text": [
      "INFO:tensorflow:Froze 566 variables.\n",
      "Converted 566 variables to const ops.\n"
     ]
    }
   ],
   "source": [
    "from tensorflow.python.framework import graph_util\n",
    "\n",
    "output_graph_def = graph_util.convert_variables_to_constants(sess, gd, ['Softmax'])"
   ]
  },
  {
   "cell_type": "code",
   "execution_count": 47,
   "metadata": {
    "collapsed": true
   },
   "outputs": [],
   "source": [
    "with tf.gfile.GFile('graph.pb', \"wb\") as f:\n",
    "    f.write(output_graph_def.SerializeToString())"
   ]
  },
  {
   "cell_type": "markdown",
   "metadata": {},
   "source": [
    "### Testing the Modified Model"
   ]
  },
  {
   "cell_type": "code",
   "execution_count": 48,
   "metadata": {
    "collapsed": false
   },
   "outputs": [],
   "source": [
    "K.clear_session()\n",
    "sess = tf.Session()\n",
    "K.set_session(sess)"
   ]
  },
  {
   "cell_type": "code",
   "execution_count": 49,
   "metadata": {
    "collapsed": false
   },
   "outputs": [],
   "source": [
    "from tensorflow.core.framework import graph_pb2\n",
    "with open('graph.pb', \"rb\") as f:\n",
    "    output_graph_def = graph_pb2.GraphDef()\n",
    "    output_graph_def.ParseFromString(f.read())\n",
    "    _ = tf.import_graph_def(output_graph_def, name=\"\")"
   ]
  },
  {
   "cell_type": "code",
   "execution_count": 50,
   "metadata": {
    "collapsed": false
   },
   "outputs": [],
   "source": [
    "x = sess.graph.get_tensor_by_name('input_1:0')"
   ]
  },
  {
   "cell_type": "code",
   "execution_count": 51,
   "metadata": {
    "collapsed": false
   },
   "outputs": [],
   "source": [
    "y = sess.graph.get_tensor_by_name('Softmax:0')"
   ]
  },
  {
   "cell_type": "code",
   "execution_count": 52,
   "metadata": {
    "collapsed": false
   },
   "outputs": [
    {
     "ename": "NameError",
     "evalue": "name 'imgs' is not defined",
     "output_type": "error",
     "traceback": [
      "\u001b[0;31m---------------------------------------------------------------------------\u001b[0m",
      "\u001b[0;31mNameError\u001b[0m                                 Traceback (most recent call last)",
      "\u001b[0;32m<ipython-input-52-cadb9fe434b3>\u001b[0m in \u001b[0;36m<module>\u001b[0;34m()\u001b[0m\n\u001b[0;32m----> 1\u001b[0;31m \u001b[0mnew_scores\u001b[0m \u001b[0;34m=\u001b[0m \u001b[0msess\u001b[0m\u001b[0;34m.\u001b[0m\u001b[0mrun\u001b[0m\u001b[0;34m(\u001b[0m\u001b[0my\u001b[0m\u001b[0;34m,\u001b[0m \u001b[0mfeed_dict\u001b[0m\u001b[0;34m=\u001b[0m\u001b[0;34m{\u001b[0m\u001b[0mx\u001b[0m\u001b[0;34m:\u001b[0m \u001b[0mimgs\u001b[0m\u001b[0;34m}\u001b[0m\u001b[0;34m)\u001b[0m\u001b[0;34m\u001b[0m\u001b[0m\n\u001b[0m",
      "\u001b[0;31mNameError\u001b[0m: name 'imgs' is not defined"
     ]
    }
   ],
   "source": [
    "new_scores = sess.run(y, feed_dict={x: imgs})"
   ]
  },
  {
   "cell_type": "code",
   "execution_count": 95,
   "metadata": {
    "collapsed": false
   },
   "outputs": [
    {
     "data": {
      "text/plain": [
       "array([[ True,  True,  True,  True,  True,  True,  True,  True,  True,\n",
       "         True,  True,  True,  True,  True,  True,  True,  True,  True,\n",
       "         True,  True,  True,  True,  True,  True,  True,  True,  True,\n",
       "         True,  True, False,  True,  True,  True,  True,  True,  True,\n",
       "         True,  True,  True,  True,  True,  True,  True,  True,  True,\n",
       "         True,  True,  True,  True,  True,  True,  True,  True,  True,\n",
       "         True,  True,  True,  True,  True,  True,  True,  True,  True,\n",
       "         True,  True,  True,  True,  True,  True,  True,  True,  True,\n",
       "         True,  True,  True,  True,  True,  True,  True,  True,  True,\n",
       "         True,  True,  True,  True,  True, False,  True,  True,  True,\n",
       "         True,  True,  True,  True,  True, False,  True,  True,  True,\n",
       "         True,  True]], dtype=bool)"
      ]
     },
     "execution_count": 95,
     "metadata": {},
     "output_type": "execute_result"
    }
   ],
   "source": [
    "abs((orig_scores - new_scores)) < 1e-6"
   ]
  },
  {
   "cell_type": "markdown",
   "metadata": {},
   "source": [
    "The scores have changed due to our modifications to the dropout node, but not by much. We also get the same predicted label with a similar confidence level:"
   ]
  },
  {
   "cell_type": "code",
   "execution_count": 97,
   "metadata": {
    "collapsed": false
   },
   "outputs": [
    {
     "name": "stdout",
     "output_type": "stream",
     "text": [
      "Label: 95, Confidence: 0.998208284378\n",
      "Label: 95, Confidence: 0.999539613724\n"
     ]
    }
   ],
   "source": [
    "find_top_pred(orig_scores)\n",
    "find_top_pred(new_scores)"
   ]
  },
  {
   "cell_type": "markdown",
   "metadata": {},
   "source": [
    "### Optimize the Model for Inference"
   ]
  },
  {
   "cell_type": "markdown",
   "metadata": {},
   "source": [
    "I originally intended to follow Pete Warden's Tutorial: [Tensorflow for Mobile Poets](https://petewarden.com/2016/09/27/tensorflow-for-mobile-poets/). In that tutorial, he takes an InceptionV3 network and runs it through some optimizations to reduce the number of operations, decrease the resolutions of the weights, and overall make the network smaller and faster.\n",
    "\n",
    "Then, I discovered the Tensorflow [Graph Transform Tool](https://github.com/tensorflow/tensorflow/blob/master/tensorflow/tools/graph_transforms/README.md), which Pete Warden recommends in a [more recent post](https://petewarden.com/2016/12/30/rewriting-tensorflow-graphs-with-the-gtt/)."
   ]
  },
  {
   "cell_type": "markdown",
   "metadata": {},
   "source": [
    "First you need to:\n",
    "* Do a local build of Tensorflow: https://www.tensorflow.org/install/install_sources, making sure you install Bazel correctly and have executed ./configure\n",
    "* Build the following tools from within your tensorflow folder:"
   ]
  },
  {
   "cell_type": "markdown",
   "metadata": {},
   "source": [
    "```\n",
    "bazel build tensorflow/tools/graph_transforms:transform_graph\n",
    "bazel build tensorflow/tools/graph_transforms:summarize_graph\n",
    "bazel build tensorflow/contrib/util:convert_graphdef_memmapped_format\n",
    "```"
   ]
  },
  {
   "cell_type": "markdown",
   "metadata": {},
   "source": [
    "Now, let's try the `summarize_graph` utility on the .pb file that we have just exported:"
   ]
  },
  {
   "cell_type": "markdown",
   "metadata": {},
   "source": [
    "```\n",
    "(tensorflow) ➜  model_export git:(master) ✗ ../../tensorflow/bazel-bin/tensorflow/tools/graph_transforms/summarize_graph --in_graph=graph.pb\n",
    "\n",
    "Found 1 possible inputs: (name=input_1, type=float(1), shape=[])\n",
    "No variables spotted.\n",
    "Found 1 possible outputs: (name=Softmax, op=Softmax)\n",
    "Found 21820820 (21.82M) const parameters, 0 (0) variable parameters, and 190 control_edges\n",
    "Op types used: 1435 Const, 758 Identity, 754 Mul, 565 Add, 376 Sub, 189 Reshape, 188 Rsqrt, 188 Sum, 95 Shape, 95 Prod, 95 Merge, 94 Mean, 94 Gather, 94 StopGradient, 94 SquaredDifference, 94 Conv2D, 94 Square, 94 Reciprocal, 94 Relu, 94 Cast, 15 ConcatV2, 11 AvgPool, 3 MaxPool, 1 Softmax, 1 RealDiv, 1 Placeholder, 1 Pack, 1 StridedSlice, 1 MatMul\n",
    "To use with tensorflow/tools/benchmark:benchmark_model try these arguments:\n",
    "bazel run tensorflow/tools/benchmark:benchmark_model -- --graph=graph.pb --show_flops --logtostderr --input_layer=input_1 --input_layer_type=float --input_layer_shape= --output_layer=Softmax\n",
    "```"
   ]
  },
  {
   "cell_type": "code",
   "execution_count": 98,
   "metadata": {
    "collapsed": false
   },
   "outputs": [
    {
     "name": "stdout",
     "output_type": "stream",
     "text": [
      "-rw-rw-r-- 1 stratospark stratospark 87833459 Mar 22 00:24 graph.pb\r\n"
     ]
    }
   ],
   "source": [
    "!ls -altr graph.pb"
   ]
  },
  {
   "cell_type": "markdown",
   "metadata": {},
   "source": [
    "Then we can optimize the graph for deployment. Notice that we are rounding the weights so that the file can compress better when added to the device bundle."
   ]
  },
  {
   "cell_type": "markdown",
   "metadata": {},
   "source": [
    "```\n",
    "(tensorflow) ➜  model_export git:(master) ✗ ../../tensorflow/bazel-bin/tensorflow/tools/graph_transforms/transform_graph \\\n",
    "--in_graph=graph.pb \\\n",
    "--out_graph=opt_graph.pb \\\n",
    "--inputs='input_1' \\\n",
    "--outputs='Softmax' \\\n",
    "--transforms='strip_unused_nodes(type=float, shape=\"1,299,299,3\") remove_nodes(op=Identity, op=CheckNumerics) round_weights(num_steps=256) fold_constants(ignore_errors=true) fold_batch_norms fold_old_batch_norms'\n",
    "\n",
    "2017-03-22 00:35:27.886563: I tensorflow/tools/graph_transforms/transform_graph.cc:257] Applying strip_unused_nodes\n",
    "2017-03-22 00:35:28.048049: I tensorflow/tools/graph_transforms/transform_graph.cc:257] Applying remove_nodes\n",
    "2017-03-22 00:35:28.709523: I tensorflow/tools/graph_transforms/transform_graph.cc:257] Applying round_weights\n",
    "2017-03-22 00:35:29.032210: I tensorflow/tools/graph_transforms/transform_graph.cc:257] Applying fold_constants\n",
    "2017-03-22 00:35:29.064884: W tensorflow/core/platform/cpu_feature_guard.cc:45] The TensorFlow library wasn't compiled to use SSE4.1 instructions, but these are available on your machine and could speed up CPU computations.\n",
    "2017-03-22 00:35:29.064910: W tensorflow/core/platform/cpu_feature_guard.cc:45] The TensorFlow library wasn't compiled to use SSE4.2 instructions, but these are available on your machine and could speed up CPU computations.\n",
    "2017-03-22 00:35:29.064914: W tensorflow/core/platform/cpu_feature_guard.cc:45] The TensorFlow library wasn't compiled to use AVX instructions, but these are available on your machine and could speed up CPU computations.\n",
    "2017-03-22 00:35:29.064917: W tensorflow/core/platform/cpu_feature_guard.cc:45] The TensorFlow library wasn't compiled to use AVX2 instructions, but these are available on your machine and could speed up CPU computations.\n",
    "2017-03-22 00:35:29.064919: W tensorflow/core/platform/cpu_feature_guard.cc:45] The TensorFlow library wasn't compiled to use FMA instructions, but these are available on your machine and could speed up CPU computations.\n",
    "2017-03-22 00:35:29.544610: I tensorflow/tools/graph_transforms/transform_graph.cc:257] Applying fold_batch_norms\n",
    "2017-03-22 00:35:29.655708: I tensorflow/tools/graph_transforms/transform_graph.cc:257] Applying fold_old_batch_norms\n",
    "```\n"
   ]
  },
  {
   "cell_type": "code",
   "execution_count": 99,
   "metadata": {
    "collapsed": false
   },
   "outputs": [
    {
     "name": "stdout",
     "output_type": "stream",
     "text": [
      "-rw-rw-r-- 1 stratospark stratospark 87683561 Mar 22 00:35 opt_graph.pb\r\n"
     ]
    }
   ],
   "source": [
    "!ls -altr opt_graph.pb"
   ]
  },
  {
   "cell_type": "markdown",
   "metadata": {},
   "source": [
    "Next, we can shrink the graph down by quantizing the weights. ** Warning, this does not work on the iOS device! **"
   ]
  },
  {
   "cell_type": "markdown",
   "metadata": {},
   "source": [
    "```\n",
    "(tensorflow) ➜  model_export git:(master) ✗ ../../tensorflow/bazel-bin/tensorflow/tools/graph_transforms/transform_graph \\\n",
    "--in_graph=opt_graph.pb \\\n",
    "--out_graph=shrink_graph.pb \\\n",
    "--inputs='input_1' \\\n",
    "--outputs='Softmax' \\\n",
    "--transforms='quantize_weights strip_unused_nodes'\n",
    "\n",
    "2017-03-22 00:39:51.366052: I tensorflow/tools/graph_transforms/transform_graph.cc:257] Applying quantize_weights\n",
    "2017-03-22 00:39:51.913481: I tensorflow/tools/graph_transforms/transform_graph.cc:257] Applying strip_unused_nodes\n",
    "```"
   ]
  },
  {
   "cell_type": "code",
   "execution_count": 101,
   "metadata": {
    "collapsed": false
   },
   "outputs": [
    {
     "name": "stdout",
     "output_type": "stream",
     "text": [
      "-rw-rw-r-- 1 stratospark stratospark 22445591 Mar 22 00:39 shrink_graph.pb\r\n"
     ]
    }
   ],
   "source": [
    "!ls -altr shrink_graph.pb"
   ]
  },
  {
   "cell_type": "markdown",
   "metadata": {},
   "source": [
    "Finally, we can create a memory-mapped model, as described in [Tensorflow for Mobile Poets](https://petewarden.com/2016/09/27/tensorflow-for-mobile-poets/)"
   ]
  },
  {
   "cell_type": "markdown",
   "metadata": {},
   "source": [
    "```\n",
    "(tensorflow) ➜  model_export git:(master) ✗ ../../tensorflow/bazel-bin/tensorflow/contrib/util/convert_graphdef_memmapped_format --in_graph=opt_graph.pb --out_graph=mem_graph.pb\n",
    "\n",
    "2017-03-22 00:40:32.066048: I tensorflow/contrib/util/convert_graphdef_memmapped_format_lib.cc:168] Converted 94 nodes\n",
    "```"
   ]
  },
  {
   "cell_type": "code",
   "execution_count": 102,
   "metadata": {
    "collapsed": false
   },
   "outputs": [
    {
     "name": "stdout",
     "output_type": "stream",
     "text": [
      "-rw-rw-r-- 1 stratospark stratospark 87833459 Mar 22 00:24 graph.pb\r\n",
      "-rw-rw-r-- 1 stratospark stratospark 87683561 Mar 22 00:35 opt_graph.pb\r\n",
      "-rw-rw-r-- 1 stratospark stratospark 22445591 Mar 22 00:39 shrink_graph.pb\r\n",
      "-rw-rw-r-- 1 stratospark stratospark 87693388 Mar 22 00:40 mem_graph.pb\r\n"
     ]
    }
   ],
   "source": [
    "!ls -altr *graph*"
   ]
  },
  {
   "cell_type": "markdown",
   "metadata": {},
   "source": [
    "### Testing Optimized Model"
   ]
  },
  {
   "cell_type": "code",
   "execution_count": 108,
   "metadata": {
    "collapsed": false
   },
   "outputs": [
    {
     "name": "stdout",
     "output_type": "stream",
     "text": [
      "[[ True  True  True  True  True  True  True  True  True  True  True  True\n",
      "   True  True  True  True  True  True  True  True  True  True  True  True\n",
      "   True  True  True  True  True False  True  True  True  True  True  True\n",
      "   True  True  True  True  True  True  True  True  True  True  True  True\n",
      "   True  True  True  True  True  True  True  True  True  True  True  True\n",
      "   True  True  True  True  True  True  True  True  True  True  True  True\n",
      "   True  True  True  True  True  True  True  True  True  True  True  True\n",
      "   True  True  True  True  True  True  True  True  True  True  True  True\n",
      "   True  True  True  True  True]]\n",
      "Label: 95, Confidence: 0.998208284378\n",
      "Label: 95, Confidence: 0.99955624342\n"
     ]
    }
   ],
   "source": [
    "def test_model(model_file):\n",
    "    K.clear_session()\n",
    "    sess = tf.Session()\n",
    "    K.set_session(sess)\n",
    "\n",
    "    with open(model_file, \"rb\") as f:\n",
    "        output_graph_def = graph_pb2.GraphDef()\n",
    "        output_graph_def.ParseFromString(f.read())\n",
    "        _ = tf.import_graph_def(output_graph_def, name=\"\")\n",
    "\n",
    "    x = sess.graph.get_tensor_by_name('input_1:0')\n",
    "    y = sess.graph.get_tensor_by_name('Softmax:0')\n",
    "\n",
    "    new_scores = sess.run(y, feed_dict={x: imgs})\n",
    "    print((orig_scores - new_scores) < 1e-6)\n",
    "    find_top_pred(orig_scores)\n",
    "    find_top_pred(new_scores)\n",
    "    \n",
    "test_model('graph.pb')"
   ]
  },
  {
   "cell_type": "code",
   "execution_count": 109,
   "metadata": {
    "collapsed": false
   },
   "outputs": [
    {
     "name": "stdout",
     "output_type": "stream",
     "text": [
      "[[ True  True  True  True  True  True  True  True  True  True  True  True\n",
      "   True  True  True  True  True  True  True  True  True  True  True  True\n",
      "   True  True  True  True  True False  True  True  True  True  True  True\n",
      "   True  True  True  True  True  True  True  True  True  True  True  True\n",
      "   True  True  True  True  True  True  True  True  True  True  True  True\n",
      "   True  True  True  True  True  True  True  True  True  True  True  True\n",
      "   True  True  True  True  True  True  True  True  True  True  True  True\n",
      "   True  True  True  True  True  True  True  True  True  True  True  True\n",
      "   True  True  True  True  True]]\n",
      "Label: 95, Confidence: 0.998208284378\n",
      "Label: 95, Confidence: 0.999923110008\n"
     ]
    }
   ],
   "source": [
    "test_model('opt_graph.pb')"
   ]
  },
  {
   "cell_type": "code",
   "execution_count": 110,
   "metadata": {
    "collapsed": false
   },
   "outputs": [
    {
     "ename": "DecodeError",
     "evalue": "Error parsing message",
     "output_type": "error",
     "traceback": [
      "\u001b[0;31m---------------------------------------------------------------------------\u001b[0m",
      "\u001b[0;31mDecodeError\u001b[0m                               Traceback (most recent call last)",
      "\u001b[0;32m<ipython-input-110-b263bb5025a3>\u001b[0m in \u001b[0;36m<module>\u001b[0;34m()\u001b[0m\n\u001b[0;32m----> 1\u001b[0;31m \u001b[0mtest_model\u001b[0m\u001b[0;34m(\u001b[0m\u001b[0;34m'mem_graph.pb'\u001b[0m\u001b[0;34m)\u001b[0m\u001b[0;34m\u001b[0m\u001b[0m\n\u001b[0m",
      "\u001b[0;32m<ipython-input-108-3ae85669b8d9>\u001b[0m in \u001b[0;36mtest_model\u001b[0;34m(model_file)\u001b[0m\n\u001b[1;32m      6\u001b[0m     \u001b[0;32mwith\u001b[0m \u001b[0mopen\u001b[0m\u001b[0;34m(\u001b[0m\u001b[0mmodel_file\u001b[0m\u001b[0;34m,\u001b[0m \u001b[0;34m\"rb\"\u001b[0m\u001b[0;34m)\u001b[0m \u001b[0;32mas\u001b[0m \u001b[0mf\u001b[0m\u001b[0;34m:\u001b[0m\u001b[0;34m\u001b[0m\u001b[0m\n\u001b[1;32m      7\u001b[0m         \u001b[0moutput_graph_def\u001b[0m \u001b[0;34m=\u001b[0m \u001b[0mgraph_pb2\u001b[0m\u001b[0;34m.\u001b[0m\u001b[0mGraphDef\u001b[0m\u001b[0;34m(\u001b[0m\u001b[0;34m)\u001b[0m\u001b[0;34m\u001b[0m\u001b[0m\n\u001b[0;32m----> 8\u001b[0;31m         \u001b[0moutput_graph_def\u001b[0m\u001b[0;34m.\u001b[0m\u001b[0mParseFromString\u001b[0m\u001b[0;34m(\u001b[0m\u001b[0mf\u001b[0m\u001b[0;34m.\u001b[0m\u001b[0mread\u001b[0m\u001b[0;34m(\u001b[0m\u001b[0;34m)\u001b[0m\u001b[0;34m)\u001b[0m\u001b[0;34m\u001b[0m\u001b[0m\n\u001b[0m\u001b[1;32m      9\u001b[0m         \u001b[0m_\u001b[0m \u001b[0;34m=\u001b[0m \u001b[0mtf\u001b[0m\u001b[0;34m.\u001b[0m\u001b[0mimport_graph_def\u001b[0m\u001b[0;34m(\u001b[0m\u001b[0moutput_graph_def\u001b[0m\u001b[0;34m,\u001b[0m \u001b[0mname\u001b[0m\u001b[0;34m=\u001b[0m\u001b[0;34m\"\"\u001b[0m\u001b[0;34m)\u001b[0m\u001b[0;34m\u001b[0m\u001b[0m\n\u001b[1;32m     10\u001b[0m \u001b[0;34m\u001b[0m\u001b[0m\n",
      "\u001b[0;31mDecodeError\u001b[0m: Error parsing message"
     ]
    }
   ],
   "source": [
    "test_model('mem_graph.pb')"
   ]
  },
  {
   "cell_type": "markdown",
   "metadata": {},
   "source": [
    "**TODO**: How to test the quantized and memory mapped models with non-mobile Tensorflow?"
   ]
  },
  {
   "cell_type": "markdown",
   "metadata": {},
   "source": [
    "### Adding Model to Example Tensorflow / iOS Camera App"
   ]
  },
  {
   "cell_type": "markdown",
   "metadata": {},
   "source": [
    "I used this [example app](https://github.com/tensorflow/tensorflow/tree/master/tensorflow/contrib/ios_examples/camera) as a base. Here are the main changes:\n",
    "\n",
    "* Add `mem_graph.pb` file that to the `camera/data` folder. If you didn't buitl it in the previous section, download it here: https://s3.amazonaws.com/stratospark/food-101/mem_graph.pb\n",
    "* Replace the `model_file_name` variable in `CameraExampleViewController.mm` with `mem_graph`\n",
    "* Replace labels file with food labels.\n",
    "* Change input height and width to 299x299, as per InceptionV3 requirements.\n",
    "* Change `out_pixel[c]` to do InceptionV3 preprocessing: `out_pixel[c] = ((in_pixel[c] / 255.0) - 0.5) * 2.0;`\n",
    "* Tweak `decayValue, updateValue, minimumThreshold` in `setPredictionValues` method to get a better user experience.\n",
    "* Be sure to go to `Build Settings` and update `Other Linker Flags`, `Header Search Paths`, and `Library Search Paths` to point to your local build of Tensorflow. This project folder is a sibling of my Tensorflow folder."
   ]
  }
 ],
 "metadata": {
  "anaconda-cloud": {},
  "kernelspec": {
   "display_name": "Python [anaconda]",
   "language": "python",
   "name": "Python [anaconda]"
  },
  "language_info": {
   "codemirror_mode": {
    "name": "ipython",
    "version": 3
   },
   "file_extension": ".py",
   "mimetype": "text/x-python",
   "name": "python",
   "nbconvert_exporter": "python",
   "pygments_lexer": "ipython3",
   "version": "3.5.6"
  }
 },
 "nbformat": 4,
 "nbformat_minor": 2
}
