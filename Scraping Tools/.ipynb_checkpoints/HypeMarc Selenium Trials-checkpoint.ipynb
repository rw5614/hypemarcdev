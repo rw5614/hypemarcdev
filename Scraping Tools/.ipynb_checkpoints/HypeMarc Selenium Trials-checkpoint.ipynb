{
 "cells": [
  {
   "cell_type": "code",
   "execution_count": 8,
   "metadata": {
    "collapsed": false
   },
   "outputs": [
    {
     "name": "stdout",
     "output_type": "stream",
     "text": [
      "Grace /📍San Francisco & beyond (@gcheung28) • Instagram photos and videos\n"
     ]
    }
   ],
   "source": [
    "from selenium import webdriver\n",
    "from selenium.webdriver.common.keys import Keys\n",
    "user = \"\"\n",
    "pwd = \"\"\n",
    "driver = webdriver.Chrome()\n",
    "driver.get(\"https://www.instagram.com/gcheung28/\")\n",
    "print(driver.title) #assert \"Facebook\" in driver.title\n",
    "# elem = driver.find_element_by_id(\"email\")\n",
    "# elem.send_keys(user)\n",
    "# elem = driver.find_element_by_id(\"pass\")\n",
    "# elem.send_keys(pwd)\n",
    "# elem.send_keys(Keys.RETURN)\n",
    "#driver.close()"
   ]
  },
  {
   "cell_type": "code",
   "execution_count": 3,
   "metadata": {
    "collapsed": false
   },
   "outputs": [],
   "source": [
    "from selenium import webdriver\n",
    "from selenium.webdriver.common.keys import Keys\n",
    "\n",
    "browser = webdriver.Chrome()\n",
    "\n",
    "browser.get('http://www.yahoo.com')\n",
    "assert 'Yahoo' in browser.title\n",
    "\n",
    "elem = browser.find_element_by_name('p')  # Find the search box\n",
    "elem.send_keys('seleniumhq' + Keys.RETURN)\n",
    "\n",
    "browser.quit()"
   ]
  },
  {
   "cell_type": "code",
   "execution_count": 185,
   "metadata": {
    "collapsed": false
   },
   "outputs": [],
   "source": [
    "import pandas as pd\n",
    "data = pd.read_csv(\"categories.csv\")"
   ]
  },
  {
   "cell_type": "code",
   "execution_count": 182,
   "metadata": {
    "collapsed": false
   },
   "outputs": [],
   "source": [
    "datasub = data"
   ]
  },
  {
   "cell_type": "code",
   "execution_count": 193,
   "metadata": {
    "collapsed": false
   },
   "outputs": [],
   "source": [
    "datasub['cat1'] = \"\"\n",
    "datasub['cat2'] = \"\"\n",
    "datasub['cat3'] = \"\""
   ]
  },
  {
   "cell_type": "code",
   "execution_count": 194,
   "metadata": {
    "collapsed": false
   },
   "outputs": [
    {
     "data": {
      "text/plain": [
       "(101, 4)"
      ]
     },
     "execution_count": 194,
     "metadata": {},
     "output_type": "execute_result"
    }
   ],
   "source": [
    "datasub.shape"
   ]
  },
  {
   "cell_type": "code",
   "execution_count": 192,
   "metadata": {
    "collapsed": false
   },
   "outputs": [
    {
     "name": "stdout",
     "output_type": "stream",
     "text": [
      "apple_pie\n",
      "baby_back_ribs\n",
      "baklava\n",
      "beef_carpaccio\n",
      "beef_tartare\n",
      "beet_salad\n",
      "beignets\n",
      "bibimbap\n",
      "bread_pudding\n",
      "breakfast_burrito\n",
      "bruschetta\n",
      "caesar_salad\n",
      "cannoli\n",
      "caprese_salad\n",
      "carrot_cake\n",
      "ceviche\n",
      "cheese_plate\n",
      "cheesecake\n",
      "chicken_curry\n",
      "chicken_quesadilla\n",
      "chicken_wings\n",
      "chocolate_cake\n",
      "chocolate_mousse\n",
      "churros\n",
      "clam_chowder\n",
      "club_sandwich\n",
      "crab_cakes\n",
      "creme_brulee\n",
      "croque_madame\n",
      "cup_cakes\n",
      "deviled_eggs\n",
      "donuts\n",
      "dumplings\n",
      "edamame\n",
      "eggs_benedict\n",
      "escargots\n",
      "falafel\n",
      "filet_mignon\n",
      "fish_and_chips\n",
      "foie_gras\n",
      "french_fries\n",
      "french_onion_soup\n",
      "french_toast\n",
      "fried_calamari\n",
      "fried_rice\n",
      "frozen_yogurt\n",
      "garlic_bread\n",
      "gnocchi\n",
      "greek_salad\n",
      "grilled_cheese_sandwich\n",
      "grilled_salmon\n",
      "guacamole\n",
      "gyoza\n",
      "hamburger\n",
      "hot_and_sour_soup\n",
      "hot_dog\n",
      "huevos_rancheros\n",
      "hummus\n",
      "ice_cream\n",
      "lasagna\n",
      "lobster_bisque\n",
      "lobster_roll_sandwich\n",
      "macaroni_and_cheese\n",
      "macarons\n",
      "miso_soup\n",
      "mussels\n",
      "nachos\n",
      "omelette\n",
      "onion_rings\n",
      "oysters\n",
      "pad_thai\n",
      "paella\n",
      "pancakes\n",
      "panna_cotta\n",
      "peking_duck\n",
      "pho\n",
      "pizza\n",
      "pork_chop\n",
      "poutine\n",
      "prime_rib\n",
      "pulled_pork_sandwich\n",
      "ramen\n",
      "ravioli\n",
      "red_velvet_cake\n",
      "risotto\n",
      "samosa\n",
      "sashimi\n",
      "scallops\n",
      "seaweed_salad\n",
      "shrimp_and_grits\n",
      "spaghetti_bolognese\n",
      "spaghetti_carbonara\n",
      "spring_rolls\n",
      "steak\n",
      "strawberry_shortcake\n",
      "sushi\n",
      "tacos\n",
      "takoyaki\n",
      "tiramisu\n",
      "tuna_tartare\n",
      "waffles\n"
     ]
    }
   ],
   "source": [
    "for row in range(0, datasub.shape[0]):\n",
    "    print(datasub.loc[row]['dish'])"
   ]
  },
  {
   "cell_type": "code",
   "execution_count": 195,
   "metadata": {
    "collapsed": false
   },
   "outputs": [],
   "source": [
    "from selenium import webdriver\n",
    "from selenium.webdriver.common.keys import Keys\n",
    "\n",
    "driver = webdriver.Chrome()\n",
    "\n",
    "for row in range(10, datasub.shape[0]):\n",
    "#     if (row == 0):\n",
    "    driver.get(\"https://www.yelp.com\")\n",
    "    elem = driver.find_element_by_id(\"find_desc\")\n",
    "    elem.send_keys(datasub.loc[row]['dish'])\n",
    "#     else:\n",
    "#         elem = driver.find_element_by_id(\"search_description\")\n",
    "#         for i in range(0,27):\n",
    "#             elem.send_keys(Keys.BACKSPACE)\n",
    "#         elem.send_keys(datasub.loc[row]['dish'])\n",
    "    elem.send_keys(Keys.RETURN)\n",
    "    try:\n",
    "        datasub.loc[row]['cat1'] = driver.find_element_by_xpath('//*[@id=\"wrap\"]/div[3]/div[2]/div[2]/div/div[1]/div[1]/div/ul/li[1]/div/div/div/div/div[2]/div[1]/div[1]/div[1]/div[4]/span[2]/span[1]/span/a').text\n",
    "    except:\n",
    "        datasub.loc[row]['cat1'] = \"err\"\n",
    "    try:\n",
    "        datasub.loc[row]['cat2'] = driver.find_element_by_xpath('//*[@id=\"wrap\"]/div[3]/div[2]/div[2]/div/div[1]/div[1]/div/ul/li[2]/div/div/div/div/div[2]/div[1]/div[1]/div[1]/div[4]/span[2]/span[1]/span/a').text\n",
    "    except:\n",
    "        datasub.loc[row]['cat1'] = \"err\"\n",
    "    try:\n",
    "        datasub.loc[row]['cat3'] = driver.find_element_by_xpath('//*[@id=\"wrap\"]/div[3]/div[2]/div[2]/div/div[1]/div[1]/div/ul/li[3]/div/div/div/div/div[2]/div[1]/div[1]/div[1]/div[4]/span[2]/span[1]/span/a').text\n",
    "    except:\n",
    "        datasub.loc[row]['cat1'] = \"err\"\n",
    "#driver.close()"
   ]
  },
  {
   "cell_type": "code",
   "execution_count": 196,
   "metadata": {
    "collapsed": true
   },
   "outputs": [],
   "source": [
    "datasub.to_csv(\"output1.csv\", index=False)"
   ]
  },
  {
   "cell_type": "code",
   "execution_count": 199,
   "metadata": {
    "collapsed": true
   },
   "outputs": [],
   "source": [
    "newdat = pd.read_csv(\"foodlookup.csv\")"
   ]
  },
  {
   "cell_type": "code",
   "execution_count": 198,
   "metadata": {
    "collapsed": false
   },
   "outputs": [
    {
     "data": {
      "text/html": [
       "<div>\n",
       "<style>\n",
       "    .dataframe thead tr:only-child th {\n",
       "        text-align: right;\n",
       "    }\n",
       "\n",
       "    .dataframe thead th {\n",
       "        text-align: left;\n",
       "    }\n",
       "\n",
       "    .dataframe tbody tr th {\n",
       "        vertical-align: top;\n",
       "    }\n",
       "</style>\n",
       "<table border=\"1\" class=\"dataframe\">\n",
       "  <thead>\n",
       "    <tr style=\"text-align: right;\">\n",
       "      <th></th>\n",
       "      <th>dish</th>\n",
       "      <th>cat1</th>\n",
       "      <th>cat2</th>\n",
       "      <th>cat3</th>\n",
       "    </tr>\n",
       "  </thead>\n",
       "  <tbody>\n",
       "    <tr>\n",
       "      <th>0</th>\n",
       "      <td>apple_pie</td>\n",
       "      <td>Bakeries</td>\n",
       "      <td>Desserts</td>\n",
       "      <td>NaN</td>\n",
       "    </tr>\n",
       "    <tr>\n",
       "      <th>1</th>\n",
       "      <td>baby_back_ribs</td>\n",
       "      <td>Comfort Food</td>\n",
       "      <td>Bars</td>\n",
       "      <td>NaN</td>\n",
       "    </tr>\n",
       "    <tr>\n",
       "      <th>2</th>\n",
       "      <td>baklava</td>\n",
       "      <td>Middle Eastern</td>\n",
       "      <td>Wine Bars</td>\n",
       "      <td>NaN</td>\n",
       "    </tr>\n",
       "    <tr>\n",
       "      <th>3</th>\n",
       "      <td>beef_carpaccio</td>\n",
       "      <td>Italian</td>\n",
       "      <td>Italian</td>\n",
       "      <td>NaN</td>\n",
       "    </tr>\n",
       "    <tr>\n",
       "      <th>4</th>\n",
       "      <td>beef_tartare</td>\n",
       "      <td>American (New)</td>\n",
       "      <td>Bars</td>\n",
       "      <td>NaN</td>\n",
       "    </tr>\n",
       "  </tbody>\n",
       "</table>\n",
       "</div>"
      ],
      "text/plain": [
       "             dish            cat1       cat2 cat3\n",
       "0       apple_pie        Bakeries   Desserts  NaN\n",
       "1  baby_back_ribs    Comfort Food       Bars  NaN\n",
       "2         baklava  Middle Eastern  Wine Bars  NaN\n",
       "3  beef_carpaccio         Italian    Italian  NaN\n",
       "4    beef_tartare  American (New)       Bars  NaN"
      ]
     },
     "execution_count": 198,
     "metadata": {},
     "output_type": "execute_result"
    }
   ],
   "source": []
  },
  {
   "cell_type": "code",
   "execution_count": null,
   "metadata": {
    "collapsed": true
   },
   "outputs": [],
   "source": []
  }
 ],
 "metadata": {
  "anaconda-cloud": {},
  "kernelspec": {
   "display_name": "Python [Root]",
   "language": "python",
   "name": "Python [Root]"
  },
  "language_info": {
   "codemirror_mode": {
    "name": "ipython",
    "version": 3
   },
   "file_extension": ".py",
   "mimetype": "text/x-python",
   "name": "python",
   "nbconvert_exporter": "python",
   "pygments_lexer": "ipython3",
   "version": "3.5.6"
  }
 },
 "nbformat": 4,
 "nbformat_minor": 0
}
